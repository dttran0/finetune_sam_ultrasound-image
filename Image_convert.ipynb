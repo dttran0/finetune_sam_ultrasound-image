{
 "cells": [
  {
   "cell_type": "code",
   "execution_count": 1,
   "id": "9161d78d-90f3-4f8c-9394-79cd49bef0ff",
   "metadata": {},
   "outputs": [],
   "source": [
    "from pathlib import Path\n",
    "import numpy as np\n",
    "import matplotlib.pyplot as plt\n",
    "import cv2\n",
    "import os\n",
    "from PIL import Image"
   ]
  },
  {
   "cell_type": "code",
   "execution_count": null,
   "id": "e1e64b3b-12e6-4087-a9f0-3093acd224ee",
   "metadata": {},
   "outputs": [],
   "source": [
    "folder_path = \"/home/peter/mask_sam_train_predict/\n",
    "files = os.listdir(folder_path)"
   ]
  }
 ],
 "metadata": {
  "kernelspec": {
   "display_name": "Python 3 (ipykernel)",
   "language": "python",
   "name": "python3"
  },
  "language_info": {
   "codemirror_mode": {
    "name": "ipython",
    "version": 3
   },
   "file_extension": ".py",
   "mimetype": "text/x-python",
   "name": "python",
   "nbconvert_exporter": "python",
   "pygments_lexer": "ipython3",
   "version": "3.10.13"
  }
 },
 "nbformat": 4,
 "nbformat_minor": 5
}
