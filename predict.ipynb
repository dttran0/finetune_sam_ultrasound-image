{
 "cells": [
  {
   "cell_type": "code",
   "execution_count": 13,
   "id": "ae337ab3-2217-43d0-af1e-2c5738ddc313",
   "metadata": {},
   "outputs": [
    {
     "name": "stdout",
     "output_type": "stream",
     "text": [
      "success\n",
      "success\n"
     ]
    }
   ],
   "source": [
    "from pathlib import Path\n",
    "import numpy as np\n",
    "import matplotlib.pyplot as plt\n",
    "import cv2\n",
    "import os\n",
    "from PIL import Image\n",
    "from draw_bbox_binary import draw_bounding_box  \n",
    "from mobile_sam import sam_model_registry, SamAutomaticMaskGenerator, SamPredictor\n",
    "from collections import defaultdict\n",
    "import torch\n",
    "from segment_anything.utils.transforms import ResizeLongestSide\n",
    "from statistics import mean\n",
    "from tqdm import tqdm\n",
    "from torch.nn.functional import threshold, normalize\n",
    "\n",
    "\n",
    "model_type = 'vit_h'\n",
    "checkpoint = \"/home/peter/sam/best_model_original_dice.pth\"\n",
    "device = 'cuda:0'\n",
    "device_cpu = 'cpu'\n",
    "\n",
    "mobile_sam = sam_model_registry[model_type](checkpoint=checkpoint)\n",
    "mobile_sam.to(device=device)\n",
    "mobile_sam.eval()\n",
    "print(\"success\")\n",
    "predictor = SamPredictor(mobile_sam)\n",
    "print(\"success\")"
   ]
  },
  {
   "cell_type": "code",
   "execution_count": 14,
   "id": "ff18a4ca-3fde-44dc-91f9-402f6eb06e0c",
   "metadata": {},
   "outputs": [],
   "source": [
    "def show_mask(mask, ax, random_color=False):\n",
    "    if random_color:\n",
    "        color = np.concatenate([np.random.random(3), np.array([0.6])], axis=0)\n",
    "    else:\n",
    "        color = np.array([30/255, 144/255, 255/255, 0.6])\n",
    "    h, w = mask.shape[-2:]\n",
    "    mask_image = mask.reshape(h, w, 1) * color.reshape(1, 1, -1)\n",
    "    ax.imshow(mask_image)\n",
    "    \n",
    "def show_points(coords, labels, ax, marker_size=375):\n",
    "    pos_points = coords[labels==1]\n",
    "    neg_points = coords[labels==0]\n",
    "    ax.scatter(pos_points[:, 0], pos_points[:, 1], color='green', marker='*', s=marker_size, edgecolor='white', linewidth=1.25)\n",
    "    ax.scatter(neg_points[:, 0], neg_points[:, 1], color='red', marker='*', s=marker_size, edgecolor='white', linewidth=1.25)   \n",
    "    \n",
    "def show_box(box, ax):\n",
    "    x0, y0 = box[0], box[1]\n",
    "    w, h = box[2] - box[0], box[3] - box[1]\n",
    "    ax.add_patch(plt.Rectangle((x0, y0), w, h, edgecolor='green', facecolor=(0,0,0,0), lw=2))    \n"
   ]
  },
  {
   "cell_type": "code",
   "execution_count": 15,
   "id": "195946c9-21b3-4c74-9ac1-601dc35136f4",
   "metadata": {},
   "outputs": [],
   "source": [
    "folder_path = \"/home/peter/zebrafish_echo_original/testing_sam_groundtruth/\"\n",
    "files = os.listdir(folder_path)\n",
    "#get the bounding box annotation\n",
    "bbox = {}\n",
    "\n",
    "for f in files:\n",
    "    curr_path = folder_path + f\n",
    "    bounding_box = draw_bounding_box(curr_path)  \n",
    "    bbox[f] = np.array(bounding_box[1])"
   ]
  },
  {
   "cell_type": "code",
   "execution_count": 16,
   "id": "593c6cfb-057e-4ef1-b1f4-84dae10fad20",
   "metadata": {},
   "outputs": [
    {
     "name": "stdout",
     "output_type": "stream",
     "text": [
      "151\n"
     ]
    }
   ],
   "source": [
    "print(len(bbox))"
   ]
  },
  {
   "cell_type": "code",
   "execution_count": 5,
   "id": "99ab0eaa-fe4c-46be-92f9-3028499cad94",
   "metadata": {},
   "outputs": [],
   "source": [
    "# predict_set = [\"Camk2a-4_2021-01-21-15-07-44_50.png\", \"Camk2b-3_2021-01-07-14-58-47_391.png\", \"Da-7_2021-01-21-10-54-26_276.png\",\n",
    "#                \"Dox2_2022-07-25-17-38-27_49.png\", \"Map2k-56_2021-01-07-15-52-25_151.png\", \"Map2k1-3_2022-07-25-18-48-44_21.png\",\n",
    "#                \"Mapk3-40_2021-01-07-15-36-29_286.png\", \"Nc-11b_2020-06-24-11-49-08_90.png\", \"Pde1a-7_2021-01-21-14-42-45_113.png\", \n",
    "#                \"Wt11_2022-07-25-17-30-23_65.png\"]"
   ]
  },
  {
   "cell_type": "code",
   "execution_count": 17,
   "id": "b7dab91e-43d9-4ee5-980a-5a3ec4ce1f94",
   "metadata": {},
   "outputs": [
    {
     "data": {
      "image/png": "[encoded data removed]",
      "text/plain": [
       "<Figure size 640x480 with 1 Axes>"
      ]
     },
     "metadata": {},
     "output_type": "display_data"
    }
   ],
   "source": [
    "image_path = \"/home/peter/zebrafish_echo_original/testing_sam/\"\n",
    "output_path = \"/home/peter/sam_original_finetune_diceloss/\"\n",
    "for p in bbox.keys():\n",
    "    image = cv2.imread(image_path+p)\n",
    "    image = cv2.cvtColor(image, cv2.COLOR_BGR2RGB)\n",
    "    predictor.set_image(image)\n",
    "    input_box = np.array(bbox[p])\n",
    "    masks, _, _ = predictor.predict(\n",
    "        point_coords=None,\n",
    "        point_labels=None,\n",
    "        box=input_box[None, :],\n",
    "        multimask_output=False,\n",
    "    )\n",
    "    h, w = masks.shape[-2:]\n",
    "    mask_image = masks.reshape(h, w, 1)\n",
    "    plt.imshow(mask_image*255)\n",
    "    plt.axis('off')\n",
    "    output_filename = os.path.join(output_path, f\"{p}_output.png\")\n",
    "    plt.savefig(output_filename, bbox_inches='tight', pad_inches=0)"
   ]
  },
  {
   "cell_type": "code",
   "execution_count": null,
   "id": "de511169-7607-4898-b881-d4c4fa0dbefd",
   "metadata": {},
   "outputs": [],
   "source": [
    "image_path = \"/home/peter/zebrafish_echo_original/train_new/\"\n",
    "output_path = \"/home/peter/mask_sam_train_predict_original_mobilesam/\"\n",
    "for p in predict_set:\n",
    "    print(p)\n",
    "    image = cv2.imread(image_path+p)\n",
    "    image = cv2.cvtColor(image, cv2.COLOR_BGR2RGB)\n",
    "    predictor.set_image(image)\n",
    "    input_box = np.array(bbox[p])\n",
    "    masks, _, _ = predictor.predict(\n",
    "        point_coords=None,\n",
    "        point_labels=None,\n",
    "        box=input_box[None, :],\n",
    "        multimask_output=False,\n",
    "    )\n",
    "    h, w = masks.shape[-2:]\n",
    "    mask_image = masks.reshape(h, w, 1)\n",
    "    plt.imshow(mask_image*255)\n",
    "    plt.axis('off')\n",
    "    output_filename = os.path.join(output_path, f\"{p}_output.png\")\n",
    "    plt.savefig(output_filename, bbox_inches='tight', pad_inches=0)"
   ]
  },
  {
   "cell_type": "code",
   "execution_count": 25,
   "id": "b692781f-8f40-4a7f-b1f1-fa6a2d6fb496",
   "metadata": {},
   "outputs": [
    {
     "ename": "NameError",
     "evalue": "name 'nn' is not defined",
     "output_type": "error",
     "traceback": [
      "\u001b[0;31m---------------------------------------------------------------------------\u001b[0m",
      "\u001b[0;31mNameError\u001b[0m                                 Traceback (most recent call last)",
      "Cell \u001b[0;32mIn[25], line 1\u001b[0m\n\u001b[0;32m----> 1\u001b[0m m \u001b[38;5;241m=\u001b[39m \u001b[43mnn\u001b[49m\u001b[38;5;241m.\u001b[39mThreshold(\u001b[38;5;241m0.1\u001b[39m, \u001b[38;5;241m20\u001b[39m)\n\u001b[1;32m      2\u001b[0m \u001b[38;5;28minput\u001b[39m \u001b[38;5;241m=\u001b[39m torch\u001b[38;5;241m.\u001b[39mrandn(\u001b[38;5;241m2\u001b[39m)\n\u001b[1;32m      3\u001b[0m output \u001b[38;5;241m=\u001b[39m m(\u001b[38;5;28minput\u001b[39m)\n",
      "\u001b[0;31mNameError\u001b[0m: name 'nn' is not defined"
     ]
    }
   ],
   "source": [
    "m = nn.Threshold(0.1, 20)\n",
    "input = torch.randn(2)\n",
    "output = m(input)"
   ]
  },
  {
   "cell_type": "code",
   "execution_count": 9,
   "id": "0aa30cd4-da86-4f6f-8b09-26c8a3a450e8",
   "metadata": {},
   "outputs": [
    {
     "name": "stdout",
     "output_type": "stream",
     "text": [
      "151\n"
     ]
    }
   ],
   "source": [
    "folder_path = \"/home/peter/sam_mobile_predict_non_finetune/\"\n",
    "files = os.listdir(folder_path)\n",
    "print(len(files))"
   ]
  },
  {
   "cell_type": "code",
   "execution_count": null,
   "id": "ca6e26b8-7cc4-45bc-aa5b-2170d8b75c70",
   "metadata": {},
   "outputs": [],
   "source": []
  }
 ],
 "metadata": {
  "kernelspec": {
   "display_name": "Python 3 (ipykernel)",
   "language": "python",
   "name": "python3"
  },
  "language_info": {
   "codemirror_mode": {
    "name": "ipython",
    "version": 3
   },
   "file_extension": ".py",
   "mimetype": "text/x-python",
   "name": "python",
   "nbconvert_exporter": "python",
   "pygments_lexer": "ipython3",
   "version": "3.10.13"
  }
 },
 "nbformat": 4,
 "nbformat_minor": 5
}
